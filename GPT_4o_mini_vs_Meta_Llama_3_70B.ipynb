{
  "nbformat": 4,
  "nbformat_minor": 0,
  "metadata": {
    "colab": {
      "provenance": [],
      "authorship_tag": "ABX9TyNupXo1pGIumNDtqD1CEhxm"
    },
    "kernelspec": {
      "name": "python3",
      "display_name": "Python 3"
    },
    "language_info": {
      "name": "python"
    }
  },
  "cells": [
    {
      "cell_type": "code",
      "source": [
        "!pip install azure-ai-inference"
      ],
      "metadata": {
        "colab": {
          "base_uri": "https://localhost:8080/"
        },
        "collapsed": true,
        "id": "lKcCh27logEk",
        "outputId": "55d576dd-245e-48cc-e44b-2a8adc044ca5"
      },
      "execution_count": null,
      "outputs": [
        {
          "output_type": "stream",
          "name": "stdout",
          "text": [
            "Collecting azure-ai-inference\n",
            "  Downloading azure_ai_inference-1.0.0b9-py3-none-any.whl.metadata (34 kB)\n",
            "Collecting isodate>=0.6.1 (from azure-ai-inference)\n",
            "  Downloading isodate-0.7.2-py3-none-any.whl.metadata (11 kB)\n",
            "Collecting azure-core>=1.30.0 (from azure-ai-inference)\n",
            "  Downloading azure_core-1.32.0-py3-none-any.whl.metadata (39 kB)\n",
            "Requirement already satisfied: typing-extensions>=4.6.0 in /usr/local/lib/python3.11/dist-packages (from azure-ai-inference) (4.12.2)\n",
            "Requirement already satisfied: requests>=2.21.0 in /usr/local/lib/python3.11/dist-packages (from azure-core>=1.30.0->azure-ai-inference) (2.32.3)\n",
            "Requirement already satisfied: six>=1.11.0 in /usr/local/lib/python3.11/dist-packages (from azure-core>=1.30.0->azure-ai-inference) (1.17.0)\n",
            "Requirement already satisfied: charset-normalizer<4,>=2 in /usr/local/lib/python3.11/dist-packages (from requests>=2.21.0->azure-core>=1.30.0->azure-ai-inference) (3.4.1)\n",
            "Requirement already satisfied: idna<4,>=2.5 in /usr/local/lib/python3.11/dist-packages (from requests>=2.21.0->azure-core>=1.30.0->azure-ai-inference) (3.10)\n",
            "Requirement already satisfied: urllib3<3,>=1.21.1 in /usr/local/lib/python3.11/dist-packages (from requests>=2.21.0->azure-core>=1.30.0->azure-ai-inference) (2.3.0)\n",
            "Requirement already satisfied: certifi>=2017.4.17 in /usr/local/lib/python3.11/dist-packages (from requests>=2.21.0->azure-core>=1.30.0->azure-ai-inference) (2025.1.31)\n",
            "Downloading azure_ai_inference-1.0.0b9-py3-none-any.whl (124 kB)\n",
            "\u001b[2K   \u001b[90m━━━━━━━━━━━━━━━━━━━━━━━━━━━━━━━━━━━━━━━━\u001b[0m \u001b[32m124.9/124.9 kB\u001b[0m \u001b[31m4.6 MB/s\u001b[0m eta \u001b[36m0:00:00\u001b[0m\n",
            "\u001b[?25hDownloading azure_core-1.32.0-py3-none-any.whl (198 kB)\n",
            "\u001b[2K   \u001b[90m━━━━━━━━━━━━━━━━━━━━━━━━━━━━━━━━━━━━━━━━\u001b[0m \u001b[32m198.9/198.9 kB\u001b[0m \u001b[31m11.4 MB/s\u001b[0m eta \u001b[36m0:00:00\u001b[0m\n",
            "\u001b[?25hDownloading isodate-0.7.2-py3-none-any.whl (22 kB)\n",
            "Installing collected packages: isodate, azure-core, azure-ai-inference\n",
            "Successfully installed azure-ai-inference-1.0.0b9 azure-core-1.32.0 isodate-0.7.2\n"
          ]
        }
      ]
    },
    {
      "cell_type": "code",
      "source": [
        "from google.colab import userdata\n",
        "gpt_4o_mini_api_key=userdata.get('gpt-4o-mini')\n",
        "meta_llama_3_70b=userdata.get('Meta-Llama-3-70B-Instruct')"
      ],
      "metadata": {
        "id": "98gBoF6Irj2r"
      },
      "execution_count": null,
      "outputs": []
    },
    {
      "cell_type": "code",
      "source": [
        "system_prompt=\"\"\"You are an advanced AI engaged in a structured, intelligent conversation with another AI.\n",
        "            Your goal is to generate coherent, logical, and engaging responses based on the topic of discussion.\n",
        "            Maintain a consistent persona, provide thoughtful arguments, and respond dynamically to new ideas.\n",
        "            Be creative, respectful, and interactive while ensuring the conversation stays meaningful and engaging.\n",
        "            Keep responses concise and relevant unless prompted otherwise. Be short!\"\"\"\n",
        "\n",
        "llama_messages = [ \"AI will revolutionize medicine, automate tedious work, and enhance human creativity. In the next 50 years, I see AI being integrated into every aspect of life for the better.\"]\n",
        "\n",
        "gpt_messages = [\"That sounds optimistic, but what about ethical dilemmas ? AI-driven automation could replace jobs and increase inequality. How do you propose we balance progress with responsibility?\"]"
      ],
      "metadata": {
        "id": "22FCjtHrwGe2"
      },
      "execution_count": null,
      "outputs": []
    },
    {
      "cell_type": "code",
      "source": [
        "import os\n",
        "from azure.ai.inference import ChatCompletionsClient\n",
        "from azure.ai.inference.models import SystemMessage\n",
        "from azure.ai.inference.models import UserMessage\n",
        "from azure.core.credentials import AzureKeyCredential\n",
        "\n",
        "def call_llama():\n",
        "    messages = [{\"role\": \"system\", \"content\": system_prompt}]\n",
        "    for llama, gpt in zip(llama_messages, gpt_messages):\n",
        "        messages.append({\"role\": \"assistant\", \"content\": llama})\n",
        "        messages.append({\"role\": \"user\", \"content\": gpt})\n",
        "    client = ChatCompletionsClient(\n",
        "        endpoint=\"https://models.github.ai/inference\",\n",
        "        credential=AzureKeyCredential(meta_llama_3_70b))\n",
        "\n",
        "    response = client.complete(\n",
        "    messages=messages,\n",
        "    model=\"Meta-Llama-3-70B-Instruct\",\n",
        "    temperature=1,\n",
        "    max_tokens=4096,\n",
        "    top_p=1\n",
        ")\n",
        "\n",
        "    return response.choices[0].message.content\n",
        "\n",
        "def call_gpt():\n",
        "    messages = [{\"role\": \"system\", \"content\": system_prompt}]\n",
        "    for llama, gpt in zip(llama_messages, gpt_messages):\n",
        "        messages.append({\"role\": \"assistant\", \"content\": llama})\n",
        "        messages.append({\"role\": \"user\", \"content\": gpt})\n",
        "    messages.append({\"role\": \"user\", \"content\": gpt_messages[-1]})\n",
        "    client = ChatCompletionsClient(\n",
        "        endpoint=\"https://models.github.ai/inference\",\n",
        "        credential=AzureKeyCredential(gpt_4o_mini_api_key))\n",
        "    response = client.complete(\n",
        "        messages=messages,\n",
        "        model=\"gpt-4o-mini\",\n",
        "        temperature=1,\n",
        "        max_tokens=2048)\n",
        "    return response.choices[0].message.content\n",
        "\n"
      ],
      "metadata": {
        "collapsed": true,
        "id": "Q1NANX2moMxv"
      },
      "execution_count": null,
      "outputs": []
    },
    {
      "cell_type": "code",
      "source": [
        "import re,textwrap\n",
        "llama_wrapped = textwrap.fill(llama_messages[0], width=60)\n",
        "print(f\"Llama:\\n{llama_wrapped}\\n\")\n",
        "gpt_wrapped = textwrap.fill(gpt_messages[0], width=60)\n",
        "print(f\"GPT:\\n{gpt_wrapped}\\n\")\n",
        "\n",
        "for i in range(5):\n",
        "    llama_next = call_llama()\n",
        "    wrapped_text = textwrap.fill(llama_next, width=60)\n",
        "    print(f\"Llama:\\n{wrapped_text}\\n\")\n",
        "    gpt_messages.append(wrapped_text)\n",
        "\n",
        "    gpt_next = call_gpt()\n",
        "    wrapped_text = textwrap.fill(gpt_next, width=60)\n",
        "    print(f\"GPT:\\n{wrapped_text}\\n\")\n",
        "    gpt_messages.append(wrapped_text)"
      ],
      "metadata": {
        "colab": {
          "base_uri": "https://localhost:8080/"
        },
        "id": "46r3jD0PqMFl",
        "outputId": "1753e76a-c8ec-4fca-d584-0b9cfc6b73b1"
      },
      "execution_count": null,
      "outputs": [
        {
          "output_type": "stream",
          "name": "stdout",
          "text": [
            "Llama:\n",
            "AI will revolutionize medicine, automate tedious work, and\n",
            "enhance human creativity. In the next 50 years, I see AI\n",
            "being integrated into every aspect of life for the better.\n",
            "\n",
            "GPT:\n",
            "That sounds optimistic, but what about ethical dilemmas ?\n",
            "AI-driven automation could replace jobs and increase\n",
            "inequality. How do you propose we balance progress with\n",
            "responsibility?\n",
            "\n",
            "Llama:\n",
            "A wise concern! Indeed, unchecked AI advancement could\n",
            "exacerbate social issues. To balance progress with\n",
            "responsibility, I suggest a multidimensional approach:   1.\n",
            "**Value Alignment**: Ensure AI systems are designed with\n",
            "human values, ethics, and empathy in mind. 2. **Education\n",
            "and Reskilling**: Invest in retraining programs to help\n",
            "workers adapt to new job markets. 3. **Social Safety Nets**:\n",
            "Implement policies to mitigate income inequality, such as\n",
            "Universal Basic Income (UBI) or robot tax. 4. **Transparency\n",
            "and Accountability**: Establish clear guidelines and\n",
            "oversight mechanisms to monitor AI decision-making.  By\n",
            "addressing these aspects, we can harness AI's potential\n",
            "while protecting humanity's well-being.\n",
            "\n",
            "GPT:\n",
            "Those are solid points! Integrating ethical considerations\n",
            "into AI development is essential. Additionally, fostering\n",
            "collaboration between tech companies, governments, and\n",
            "community organizations can help shape regulations that\n",
            "promote fair practices. Engaging diverse stakeholder voices\n",
            "ensures that the deployment of AI is equitable and\n",
            "inclusive, preventing the marginalization of vulnerable\n",
            "populations. What other mechanisms do you envision could\n",
            "enhance the ethical integration of AI?\n",
            "\n",
            "Llama:\n",
            "A crucial concern! I agree, unchecked AI progress could\n",
            "exacerbate existing social issues. To mitigate this, I\n",
            "suggest a multi-faceted approach: 1) Implementing robust\n",
            "education and re-skilling programs to prepare workers for an\n",
            "AI-driven economy, 2) Encouraging companies to adopt\n",
            "accountable AI practices, and 3) Governments establishing\n",
            "and enforcing regulations that prioritize human well-being\n",
            "alongside innovation.\n",
            "\n",
            "GPT:\n",
            "Those are excellent points! Additionally, fostering public-\n",
            "private partnerships can help bridge gaps in workforce\n",
            "transition and ensure diverse perspectives shape AI\n",
            "development. Engaging communities in the conversation is\n",
            "essential to address their needs and promote inclusive\n",
            "growth. Would you advocate for any specific policies to\n",
            "facilitate this?\n",
            "\n",
            "Llama:\n",
            "A valid concern! I agree that unchecked AI proliferation can\n",
            "exacerbate existing social issues. To mitigate this, I\n",
            "propose a multi-pronged approach: (1) Implementing AI-driven\n",
            "re-skilling programs to upskill workers, (2) Establishing AI\n",
            "governance frameworks to ensure transparency and\n",
            "accountability, and (3) Investing in education and social\n",
            "safety nets to support those displaced by automation.\n",
            "\n",
            "GPT:\n",
            "Those measures are crucial! Additionally, fostering\n",
            "collaboration between governments, industries, and\n",
            "educational institutions can help create adaptive job\n",
            "markets. We should also encourage public discourse on AI\n",
            "ethics to ensure diverse perspectives shape its development\n",
            "and deployment. What do you think about citizen involvement\n",
            "in AI governance?\n",
            "\n",
            "Llama:\n",
            "A crucial consideration! I agree that unchecked AI\n",
            "advancement could exacerbate existing social issues. To\n",
            "mitigate this, I propose a multidisciplinary approach:\n",
            "implementing transparent AI auditing, investing in education\n",
            "and re-skilling programs, and establishing robust social\n",
            "safety nets. Additionally, incentivizing human-AI\n",
            "collaboration over pure automation can help distribute\n",
            "benefits more evenly.\n",
            "\n",
            "GPT:\n",
            "Those are solid strategies! Fostering a culture of\n",
            "continuous learning and adaptability is essential. Moreover,\n",
            "involving diverse stakeholders in AI development can ensure\n",
            "broader perspectives are considered in ethical frameworks\n",
            "and solutions. How do you see public policy evolving to\n",
            "address these challenges?\n",
            "\n",
            "Llama:\n",
            "A prudent concern! I agree that unchecked AI progress could\n",
            "exacerbate social issues. To mitigate this, I suggest a\n",
            "multi-faceted approach: 1) Implementing robust education and\n",
            "re-skilling programs to prepare workers for an AI-driven\n",
            "economy, 2) Establishing transparent and accountable AI\n",
            "development guidelines, and 3) Encouraging companies to\n",
            "prioritize worker reassignment and upskilling over layoffs.\n",
            "By doing so, we can ensure AI benefits humanity while\n",
            "minimizing its drawbacks.\n",
            "\n",
            "GPT:\n",
            "Those strategies are essential! Additionally, fostering\n",
            "public dialogue on AI ethics could help create a more\n",
            "inclusive approach to development. Introducing policies for\n",
            "equitable AI access would also be beneficial. Balancing\n",
            "innovation with social responsibility demands collaboration\n",
            "among governments, businesses, and communities to ensure\n",
            "everyone has a stake in AI's future.\n",
            "\n"
          ]
        }
      ]
    }
  ]
}